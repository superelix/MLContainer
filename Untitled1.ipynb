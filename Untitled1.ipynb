{
 "cells": [
  {
   "cell_type": "code",
   "execution_count": 409,
   "metadata": {},
   "outputs": [],
   "source": [
    "import numpy as np\n",
    "from sklearn import datasets"
   ]
  },
  {
   "cell_type": "code",
   "execution_count": 410,
   "metadata": {},
   "outputs": [],
   "source": [
    "irs=datasets.load_iris()\n",
    "x_=irs.data\n",
    "y_=irs.target"
   ]
  },
  {
   "cell_type": "code",
   "execution_count": 411,
   "metadata": {},
   "outputs": [],
   "source": [
    "def calculate(y_new):\n",
    "    cls=[]\n",
    "    y=set(y_new)\n",
    "    for p in y:\n",
    "        t1=(y_new==p)\n",
    "        cls.append(len(y_new[t1]))\n",
    "    a=np.array(cls)\n",
    "    s=a.sum()\n",
    "    a=a/s\n",
    "    a=a*np.log2(a)\n",
    "    return -1*(a.sum()*s)"
   ]
  },
  {
   "cell_type": "code",
   "execution_count": 412,
   "metadata": {},
   "outputs": [],
   "source": [
    "def new_entropy(x,y,i):\n",
    "    l=[]\n",
    "    m=set(x[:,i])\n",
    "    for j in m:\n",
    "        l.append(j)\n",
    "    l.sort()\n",
    "    p=len(l)\n",
    "    l_m=l[1:p]\n",
    "    del l[p-1]\n",
    "    a=np.array(l)\n",
    "    b=np.array(l_m)\n",
    "    f=(a+b)/2\n",
    "    s=0\n",
    "    t=x[:,i]>f[0]\n",
    "    s=s+(calculate(y[t])/len(y))\n",
    "    t=x[:,i]<f[0]\n",
    "    s=s+(calculate(y[t])/len(y))\n",
    "    min_value=s\n",
    "    seperator=f[0]\n",
    "    for j in f:\n",
    "        s=0\n",
    "        t=x[:,i]>j\n",
    "        s=s+(calculate(y[t])/len(y))\n",
    "        t=x[:,i]<j\n",
    "        s=s+(calculate(y[t])/len(y))\n",
    "        if min_value>s:\n",
    "            min_value=s\n",
    "            seperator=j\n",
    "    return min_value,seperator"
   ]
  },
  {
   "cell_type": "code",
   "execution_count": 413,
   "metadata": {},
   "outputs": [],
   "source": [
    "def split_into_classes(y_new):\n",
    "    y=set(y_new)\n",
    "    for p in y:\n",
    "        t1=(y_new==p)\n",
    "        print(\"Count of\",\" \",irs.target_names[p],\"=\",len(y_new[t1]))"
   ]
  },
  {
   "cell_type": "code",
   "execution_count": 414,
   "metadata": {},
   "outputs": [],
   "source": [
    "def gainratio(infog,sp,min_index,x,y):\n",
    "    cls=[]\n",
    "    t=x[:,min_index]>sp\n",
    "    cls.append(len(y[t]))\n",
    "    cls.append(len(y)-len(y[t]))\n",
    "    a=np.array(cls)\n",
    "    s=a.sum()\n",
    "    a=a/s\n",
    "    a=a*np.log2(a)\n",
    "    p=-1*(a.sum()*s)\n",
    "    return infog/p"
   ]
  },
  {
   "cell_type": "code",
   "execution_count": 415,
   "metadata": {},
   "outputs": [
    {
     "name": "stdout",
     "output_type": "stream",
     "text": [
      "Level  0\n",
      "Count of   setosa = 50\n",
      "Count of   versicolor = 50\n",
      "Count of   virginica = 50\n",
      "Currnt Entropy is   =   1.584962500721156\n",
      "Splitting on feature  petal length (cm)   with gain ratio  0.006666666666666665\n",
      "Level  1\n",
      "Count of   versicolor = 50\n",
      "Count of   virginica = 50\n",
      "Currnt Entropy is   =   1.0\n",
      "Splitting on feature  petal width (cm)   with gain ratio  0.0069336479859126625\n",
      "Level  2\n",
      "Count of   versicolor = 1\n",
      "Count of   virginica = 45\n",
      "Currnt Entropy is   =   0.15109697051711368\n",
      "Splitting on feature  sepal length (cm)   with gain ratio  0.0021574624100409888\n",
      "Level  3\n",
      "Count of   virginica = 39\n",
      "Currnt entopy = 0.0\n",
      "Reached leaf node\n",
      "Level  3\n",
      "Count of   versicolor = 1\n",
      "Count of   virginica = 6\n",
      "Currnt Entropy is   =   0.5916727785823275\n",
      "Splitting on feature  sepal width (cm)   with gain ratio  0.14285714285714285\n",
      "Level  4\n",
      "Count of   versicolor = 1\n",
      "Currnt entopy = 0.0\n",
      "Reached leaf node\n",
      "Level  4\n",
      "Count of   virginica = 6\n",
      "Currnt entopy = 0.0\n",
      "Reached leaf node\n",
      "Level  2\n",
      "Count of   versicolor = 49\n",
      "Count of   virginica = 5\n",
      "Currnt entopy = 0.0\n",
      "Reached leaf node\n",
      "Level  1\n",
      "Count of   setosa = 50\n",
      "Currnt entopy = 0.0\n",
      "Reached leaf node\n"
     ]
    }
   ],
   "source": [
    "def Dtree(x,y,f_names,level):\n",
    "    if (len(f_names)==0) or (len(set(y))==1): #base case conditions for leaf node \n",
    "        print(\"Level \",level)\n",
    "        split_into_classes(y)\n",
    "        print(\"Currnt entopy = 0.0\")\n",
    "        print(\"Reached leaf node\")\n",
    "        return\n",
    "    info_org=(calculate(y)/len(x))         #calculate is used to calculate the current entropy\n",
    "    print(\"Level \",level)\n",
    "    split_into_classes(y)                  #print the target names that the currnet node contains in it\n",
    "    nof=x.shape[1]\n",
    "    min_value,min_sp=new_entropy(x,y,0)    # new_entropy calculates the entropy when splitting is done wrt a feature\n",
    "    min_index=0\n",
    "    for i in range(nof):\n",
    "        value=new_entropy(x,y,i)\n",
    "        if min_value>value[0]:\n",
    "            min_value=value[0]\n",
    "            min_index=i\n",
    "            min_sp=value[1]\n",
    "    print(\"Currnt Entropy is\",\" \",\"=\",\" \",info_org)\n",
    "    print(\"Splitting on feature \",f_names[min_index],\" \",\"with gain ratio \",gainratio(info_org-min_value,min_sp,min_index,x,y))\n",
    "    #gainratio func calculates the gainration for feature that gives minimum entopy\n",
    "    del f_names[min_index]\n",
    "    t1=x[:,min_index]>min_sp\n",
    "    t2=x[:,min_index]<min_sp\n",
    "    x=np.delete(x,min_index,axis=1)\n",
    "    #recursive call with data splitted with best feature\n",
    "    Dtree(x[t1,:],y[t1],f_names,level+1)\n",
    "    Dtree(x[t2,:],y[t2],f_names,level+1)\n",
    "level=0\n",
    "Dtree(x_,y_,irs.feature_names,level)"
   ]
  }
 ],
 "metadata": {
  "kernelspec": {
   "display_name": "Python 3",
   "language": "python",
   "name": "python3"
  },
  "language_info": {
   "codemirror_mode": {
    "name": "ipython",
    "version": 3
   },
   "file_extension": ".py",
   "mimetype": "text/x-python",
   "name": "python",
   "nbconvert_exporter": "python",
   "pygments_lexer": "ipython3",
   "version": "3.6.5"
  }
 },
 "nbformat": 4,
 "nbformat_minor": 2
}
