{
 "cells": [
  {
   "cell_type": "code",
   "execution_count": 36,
   "metadata": {},
   "outputs": [],
   "source": [
    "import numpy as np\n",
    "import os\n",
    "from sklearn import preprocessing "
   ]
  },
  {
   "cell_type": "code",
   "execution_count": 37,
   "metadata": {},
   "outputs": [
    {
     "data": {
      "text/plain": [
       "((379, 14), (127, 13))"
      ]
     },
     "execution_count": 37,
     "metadata": {},
     "output_type": "execute_result"
    }
   ],
   "source": [
    "os.chdir(\"C:\\\\Users\\Aniruddha\\Downloads\")\n",
    "data1=np.genfromtxt(\"0000000000002417_training_boston_x_y_train.csv\",delimiter=\",\")\n",
    "data2=np.genfromtxt(\"0000000000002417_test_boston_x_test.csv\",delimiter=\",\")\n",
    "data1.shape,data2.shape"
   ]
  },
  {
   "cell_type": "code",
   "execution_count": 38,
   "metadata": {},
   "outputs": [],
   "source": [
    "x_train=data1[:,0:13]\n",
    "x_train=np.insert(x_train,13,np.ones(379),axis=1)\n",
    "y_train=data1[:,13]\n",
    "x_train.shape\n",
    "m=np.zeros(14)\n",
    "x_test=data2\n",
    "x_test=np.insert(x_test,13,np.ones(127),axis=1)\n",
    "lr=0.01\n",
    "no_itr=379"
   ]
  },
  {
   "cell_type": "code",
   "execution_count": 39,
   "metadata": {},
   "outputs": [
    {
     "data": {
      "text/plain": [
       "array([11.0445679 , 27.99689424, 22.46033   , 24.12860465, 21.19422503,\n",
       "        2.86353391, 29.03987989, 24.49887273, 19.27499878, 23.36780975,\n",
       "       24.52757987, 18.63147106, 19.71421119, 21.58013359, 41.23616971,\n",
       "       24.14045839, 23.80297908, 27.73434324, 20.53208316, 31.65137603,\n",
       "       24.17521105, 23.91505841, 32.80547662, 34.36561741, 32.07753424,\n",
       "       15.51022101, 23.0049906 , 32.44645525, 23.40023426, 32.59449366,\n",
       "       17.93704509, 25.36208467, 23.62834821, 25.58571713, 14.70290938,\n",
       "       29.28003337, 25.9278617 , 20.99605904, 24.25058784,  9.88172504,\n",
       "        7.03104243, 28.03443476, 29.39294294, 20.068096  , 20.1567138 ,\n",
       "        2.66986907, 39.43423633, 25.93167685, 30.06772774, 17.36993453,\n",
       "       17.56665315, 38.87312482, 18.1244429 , 21.21395428, 16.75643453,\n",
       "       21.67724647, 18.72922554, 23.0110228 , 14.78605603, 17.49808962,\n",
       "       14.88505249, 29.11064124, 25.24868526, 25.66959687, 16.9888141 ,\n",
       "       16.28013239, 34.65933975, 17.43496051, 25.18950757, 22.00658905,\n",
       "       29.36214306, 26.06265009, 19.05505084,  5.2541106 , 35.32880621,\n",
       "       25.20123632, 28.6413198 , 26.23641085, 15.84197879, 32.53253857,\n",
       "       19.98509349, 23.26661105, 23.69295642,  8.95315067, 17.86688349,\n",
       "       30.10135325, 27.08922942,  5.63050103, 19.11728478, 19.87484768,\n",
       "       21.49139958, 21.14100771, 21.33312945, 14.13219724, 20.54193126,\n",
       "       27.3453533 , 39.18157979, 17.04557597, 32.66341455, 26.33244852,\n",
       "       28.00862186, 22.62845764, 24.3517712 , 31.0465801 , 17.91350727,\n",
       "       25.91217042, 21.9190733 , 36.60554946, 22.45552559, 17.07592514,\n",
       "       27.74173259, -0.90590714, 14.55999706, 15.83414452, 35.70922059,\n",
       "       21.72237821, 22.00934899, 24.7059868 , 22.21313562, 19.90694063,\n",
       "       14.62002401, 34.00537958, 22.5170069 , 23.67759238, 19.92655058,\n",
       "       21.11926926, 16.06133957])"
      ]
     },
     "execution_count": 39,
     "metadata": {},
     "output_type": "execute_result"
    }
   ],
   "source": [
    "def gd(x_train,y_train,m,lr,no_itr):\n",
    "    t=len(x_train[:,0])\n",
    "    n=len(x_train[0,:])\n",
    "    #x_train=preprocessing.scale(x_train)\n",
    "    #y_train=preprocessing.scale(y_train)\n",
    "    s=0\n",
    "    for t in range(no_itr):\n",
    "        for i in range(t):\n",
    "            for k in range(n):\n",
    "                s=s+x_train[i][k]*m[k]\n",
    "            for j in range(n):\n",
    "                m[j]=m[j]+(lr*(2/t)*(y_train[i]-s)*x_train[i][j])\n",
    "            s=0\n",
    "    return m\n",
    "def predict(x_test,p):\n",
    "    t=len(x_test[:,0])\n",
    "    n=len(x_test[:,0])\n",
    "    y_predict=np.zeros(t)\n",
    "    for i in range(t):\n",
    "        y_predict[i]=((x_test[i,:])*p).sum()\n",
    "    return y_predict\n",
    "p=gd(x_train,y_train,m,lr,no_itr)      \n",
    "\n",
    "y=predict(x_test,p)\n",
    "np.savetxt(\"boston1.csv\",y,fmt=\"%f\")\n",
    "y"
   ]
  }
 ],
 "metadata": {
  "kernelspec": {
   "display_name": "Python 3",
   "language": "python",
   "name": "python3"
  },
  "language_info": {
   "codemirror_mode": {
    "name": "ipython",
    "version": 3
   },
   "file_extension": ".py",
   "mimetype": "text/x-python",
   "name": "python",
   "nbconvert_exporter": "python",
   "pygments_lexer": "ipython3",
   "version": "3.6.5"
  }
 },
 "nbformat": 4,
 "nbformat_minor": 2
}
